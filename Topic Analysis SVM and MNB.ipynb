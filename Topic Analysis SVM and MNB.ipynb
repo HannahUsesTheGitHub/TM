{
 "cells": [
  {
   "cell_type": "code",
   "execution_count": null,
   "id": "897aa759",
   "metadata": {},
   "outputs": [
    {
     "name": "stdout",
     "output_type": "stream",
     "text": [
      "   sentence_id  \\\n",
      "0            0   \n",
      "1            1   \n",
      "2            2   \n",
      "3            3   \n",
      "4            4   \n",
      "\n",
      "                                                                                sentence  \\\n",
      "0            The stadium was alive with the roar of the crowd after that incredible win.   \n",
      "1       That last-minute goal had me jumping out of my seat—what an unbelievable finish!   \n",
      "2                      I couldn’t put the book down; it swept me into a whole new world.   \n",
      "3          The story had its moments, though some parts felt like they dragged on a bit.   \n",
      "4  I enjoyed the way the timelines shifted, even if it got a little confusing sometimes.   \n",
      "\n",
      "  sentiment   topic  \n",
      "0  positive  sports  \n",
      "1  positive  sports  \n",
      "2  positive    book  \n",
      "3   neutral    book  \n",
      "4   neutral    book  \n",
      "Index(['sentence_id', 'sentence', 'sentiment', 'topic'], dtype='object')\n"
     ]
    }
   ],
   "source": [
    "import pandas as pd\n",
    "from sklearn.model_selection import train_test_split\n",
    "from sklearn.feature_extraction.text import CountVectorizer\n",
    "from sklearn.svm import LinearSVC\n",
    "from sklearn.metrics import classification_report\n",
    "pd.set_option('display.max_colwidth', None)\n",
    "\n",
    "test_data = pd.read_csv('sentiment-topic-test.tsv', sep='\\t')\n",
    "\n",
    "print(test_data.head())\n",
    "print(test_data.columns)\n"
   ]
  },
  {
   "cell_type": "code",
   "execution_count": null,
   "id": "6afe78f5",
   "metadata": {},
   "outputs": [
    {
     "name": "stdout",
     "output_type": "stream",
     "text": [
      "   sentence_id  \\\n",
      "0            0   \n",
      "1            1   \n",
      "2            2   \n",
      "3            3   \n",
      "4            4   \n",
      "\n",
      "                                                                                                                                                                                                                                                                                                                                                                                                                                                                                                                                                                                                                                                                                                                                                                                                                                                                                                                                                                                                                                                                                                                                                                                                                                                                                                                                                                                                                                                                                                                                                                                                                                                                                                                                                                                                                                                                                                                                                                                                                                                                                                                                                                                                                                                                                                                                                                                                                                                                                                                                                                                                                                                                                                                                                                  sentence  \\\n",
      "0   The Aviator is about aviation innovator Howard Hughes. It is about womanizer Howard Hughes. It is about psychopath Howard Hughes. Any one of these would have made an interesting film. Altogether they resulted in a shallow portrayal over too long a period of time to retain my interest. In short, I was bored.Let's look at the love affairs. The bit about Jean Harlow was so minuscule it could easily have been cut with no harm to the biography. The same could be said about the scenes with Faith Domergue. The Ava Gardner story could have been interesting, but it was too fragmented to be of interest. Only the Kate Hepburn story was truly compelling, mostly because of the exceptional performance of Cate Blanchett. Still, even this episode  which could have been developed into a two-hour story  left me wanting.Then, there's the psycho-pathological element. Who was his mother and why did she treat him like she did? We don't know. Was this a sexually abusive relationship? The opening bath scene leaned in that direction, but we don't know. If Hughes was so horrendously phobic, why did the phobia take so long to emerge and wreck his life? We don't know. It's a shame the writer and director did not reveal the answers to these questions. Perhaps no one knows the answers; we just know he was psychopathic.Finally, let's talk about aviation. I love airplanes. I could relate to Hughes' passion. I could thrill with his gallivanting around the skies  racing, filming, testing, wooing Hepburn. I didn't even mind the fact that nothing in the air was real  just computer generated images. I wanted to stand by his side when he faced off with greedy Juan Trippe and sleazy Senator Owen Brewster. I wanted to fight with him and fight for him. But even this was shallowly presented. The evidence is readily apparent: major characters, identified by labels as if this were a documentary, enter the story without the viewer being prepared for who they are, why they are there, and why we should care about them. I just couldn't get hooked. I didn't care.Interesting note: when I was first out of college, I worked as a technical writer with a man who was nearly at the end of his career. He had been with Hughes Aircraft and had the dubious honor, along with three or four others, of pulling Hughes from one of his many plane crashes. My fellow employee told tales of Hughes and of the rescue for which Howard ensured him of employment for as long as he wanted to stay on.Sadly, The Aviator added nothing to my knowledge of Howard Hughes and, although it had great potential to tell a fabulous story about one of aviation's most celebrated innovators, it failed.   \n",
      "1                                                                                                                                                                                                                                                                                                                                                                                                                                                                                                                                                                                                                                                                                                                                                                                                                                                                                                                                                                                                                                                                                                                                                                                                                                                                                                                                                                                                                                                                                                                                                                                                                                                                                                                                                                                                                                                                                                                                                                                                                                                                                                                                                                                                                                                                                                                                                                                                                                                                                                                                                                                                                                                                                           - Arsenal at 80% possession and 3-1 up away from home in the Champions League.   \n",
      "2                                                                                                                                                                                                                                                                                                                                                                                                                                                                                                                                                                                                                                                                                                                                                                                                                                                                                                                                                                                                                                                                                                                                                                                                                                                                                                                                                                                                                                                                                                                                                                                                                                                                                                                                                                                                                                                                                                                                                                                                                                                                                                                                                                                                                                                                                                                                                                                                                                                                                                                                                                                                                                                                                                                                                                - Kickoff   \n",
      "3                                                                                                                                                                                                                                                                                                                                                                                                                                                                                                                                                                                                                                                                                                                                                                                                                                                                                                                                                                                                                                                                                                                                                                                                                                                                                                                                                                                                                                                                                                                                                                                                                                                                                                                                                                                                                                                                                                                                                                                                                                                                                                                                                                                                                                                                                                                                                                                                                                                                                                                                                                                                                                                                                                                                                    - Kiwior is just… ok?   \n",
      "4                                                                                                                                                                                                                                                                                                                                                                                                                                                                                                                                                                                                                                                                                                                                                                                                                                                                                                                                                                                                                                                                                                                                                                                                                                                                                                                                                                                                                                                                                                                                                                                                                                                                                                                                                                                                                                                                                                                                                                                                                                                                                                                                                                                                                                                                                                                                                                                                                                                                                                                                                                                                                                                                                                                        - No Sterling (Sterling should be ahead of Jesus)   \n",
      "\n",
      "  sentiment   topic  \n",
      "0   neutral   movie  \n",
      "1  positive  sports  \n",
      "2   neutral  sports  \n",
      "3   neutral  sports  \n",
      "4   neutral  sports  \n",
      "Validation performance:\n",
      "              precision    recall  f1-score   support\n",
      "\n",
      "        book       0.98      0.97      0.98      1200\n",
      "       movie       0.99      0.98      0.99      1200\n",
      "      sports       0.98      1.00      0.99      1200\n",
      "\n",
      "    accuracy                           0.98      3600\n",
      "   macro avg       0.98      0.98      0.98      3600\n",
      "weighted avg       0.98      0.98      0.98      3600\n",
      "\n"
     ]
    }
   ],
   "source": [
    "data = pd.read_csv('train.csv', sep=';')  # replace with your actual filename\n",
    "print(data.head())\n",
    "\n",
    "X = data['sentence']\n",
    "y = data['topic']\n",
    "\n",
    "X_train, X_dev, y_train, y_dev = train_test_split(X, y, test_size=0.1, random_state=0, stratify=y)\n",
    "\n",
    "vectorizer = CountVectorizer(stop_words='english', max_features=5000)\n",
    "X_train_vec = vectorizer.fit_transform(X_train)\n",
    "X_dev_vec = vectorizer.transform(X_dev)\n",
    "\n",
    "svm = LinearSVC(C=1.0) \n",
    "svm.fit(X_train_vec, y_train)\n",
    "\n",
    "y_dev_pred = svm.predict(X_dev_vec)\n",
    "print(\"Validation performance:\")\n",
    "print(classification_report(y_dev, y_dev_pred))\n"
   ]
  },
  {
   "cell_type": "code",
   "execution_count": null,
   "id": "d1ed47f3",
   "metadata": {},
   "outputs": [
    {
     "name": "stdout",
     "output_type": "stream",
     "text": [
      "Best Parameters: {'C': 0.1}\n",
      "Best Cross-Validation Score: 0.9839361379109844\n",
      "Validation Set Performance:\n",
      "              precision    recall  f1-score   support\n",
      "\n",
      "        book       0.98      0.97      0.98      1200\n",
      "       movie       0.99      0.98      0.99      1200\n",
      "      sports       0.97      1.00      0.99      1200\n",
      "\n",
      "    accuracy                           0.98      3600\n",
      "   macro avg       0.98      0.98      0.98      3600\n",
      "weighted avg       0.98      0.98      0.98      3600\n",
      "\n"
     ]
    }
   ],
   "source": [
    "from sklearn.model_selection import GridSearchCV\n",
    "from sklearn.svm import LinearSVC\n",
    "from sklearn.metrics import classification_report\n",
    "\n",
    "param_grid = {\n",
    "    'C': [0.01, 0.1, 1, 10, 100]\n",
    "}\n",
    "\n",
    "grid = GridSearchCV(\n",
    "    estimator=LinearSVC(max_iter=5000),  \n",
    "    param_grid=param_grid,\n",
    "    scoring='f1_macro', \n",
    "    cv=5,\n",
    "    n_jobs=-1\n",
    ")\n",
    "\n",
    "grid.fit(X_train_vec, y_train)\n",
    "\n",
    "print(\"Best Parameters:\", grid.best_params_)\n",
    "print(\"Best Cross-Validation Score:\", grid.best_score_)\n",
    "\n",
    "best_model = grid.best_estimator_\n",
    "y_dev_pred = best_model.predict(X_dev_vec)\n",
    "\n",
    "print(\"Validation Set Performance:\")\n",
    "print(classification_report(y_dev, y_dev_pred))\n"
   ]
  },
  {
   "cell_type": "code",
   "execution_count": null,
   "id": "da315453",
   "metadata": {},
   "outputs": [
    {
     "name": "stdout",
     "output_type": "stream",
     "text": [
      "Test set performance:\n",
      "              precision    recall  f1-score   support\n",
      "\n",
      "        book       1.00      0.83      0.91         6\n",
      "       movie       0.75      0.50      0.60         6\n",
      "      sports       0.67      1.00      0.80         6\n",
      "\n",
      "    accuracy                           0.78        18\n",
      "   macro avg       0.81      0.78      0.77        18\n",
      "weighted avg       0.81      0.78      0.77        18\n",
      "\n"
     ]
    }
   ],
   "source": [
    "X_test = test_data['sentence']\n",
    "y_test = test_data['topic']\n",
    "\n",
    "X_test_vec = vectorizer.transform(X_test)\n",
    "\n",
    "y_test_pred = svm.predict(X_test_vec)\n",
    "\n",
    "from sklearn.metrics import classification_report\n",
    "print(\"Test set performance:\")\n",
    "print(classification_report(y_test, y_test_pred))\n"
   ]
  },
  {
   "cell_type": "code",
   "execution_count": null,
   "id": "a93df14c",
   "metadata": {},
   "outputs": [
    {
     "name": "stdout",
     "output_type": "stream",
     "text": [
      "                                                                                    sentence  \\\n",
      "0               The trailer was decent, giving you a taste without spilling all the secrets.   \n",
      "1  I found the main character so annoying that it was hard to care about what happened next.   \n",
      "2    Word is, the screenplay was scribbled down during a casual coffee break at a busy cafe.   \n",
      "3      It’s surprising how a promising start could unravel into such a disappointing finish.   \n",
      "\n",
      "  true_label predicted_label  \n",
      "0      movie          sports  \n",
      "1       book           movie  \n",
      "2      movie          sports  \n",
      "3      movie          sports  \n"
     ]
    }
   ],
   "source": [
    "misclassified_mask = y_test != y_test_pred\n",
    "misclassified_sentences = X_test[misclassified_mask]\n",
    "true_labels = y_test[misclassified_mask]\n",
    "pred_labels = y_test_pred[misclassified_mask]\n",
    "\n",
    "error_df = pd.DataFrame({\n",
    "    'sentence': misclassified_sentences,\n",
    "    'true_label': true_labels,\n",
    "    'predicted_label': pred_labels\n",
    "})\n",
    "\n",
    "print(error_df)\n"
   ]
  },
  {
   "cell_type": "code",
   "execution_count": null,
   "id": "4dabf5af",
   "metadata": {},
   "outputs": [
    {
     "name": "stdout",
     "output_type": "stream",
     "text": [
      "Validation performance:\n",
      "              precision    recall  f1-score   support\n",
      "\n",
      "        book       0.98      0.97      0.98      1200\n",
      "       movie       1.00      0.98      0.99      1200\n",
      "      sports       0.97      1.00      0.98      1200\n",
      "\n",
      "    accuracy                           0.98      3600\n",
      "   macro avg       0.98      0.98      0.98      3600\n",
      "weighted avg       0.98      0.98      0.98      3600\n",
      "\n"
     ]
    }
   ],
   "source": [
    "from sklearn.feature_extraction.text import TfidfVectorizer\n",
    "\n",
    "vectorizer = TfidfVectorizer(stop_words='english', max_features=5000)\n",
    "X_train_vec = vectorizer.fit_transform(X_train)\n",
    "X_dev_vec = vectorizer.transform(X_dev)\n",
    "\n",
    "svm = LinearSVC(C=1.0) \n",
    "svm.fit(X_train_vec, y_train)\n",
    "\n",
    "y_dev_pred = svm.predict(X_dev_vec)\n",
    "print(\"Validation performance:\")\n",
    "print(classification_report(y_dev, y_dev_pred))"
   ]
  },
  {
   "cell_type": "code",
   "execution_count": null,
   "id": "2cd1d911",
   "metadata": {},
   "outputs": [
    {
     "name": "stdout",
     "output_type": "stream",
     "text": [
      "Best Parameters: {'C': 1}\n",
      "Best Cross-Validation Score: 0.9848440564863873\n",
      "Validation Set Performance:\n",
      "              precision    recall  f1-score   support\n",
      "\n",
      "        book       0.98      0.97      0.98      1200\n",
      "       movie       1.00      0.98      0.99      1200\n",
      "      sports       0.97      1.00      0.98      1200\n",
      "\n",
      "    accuracy                           0.98      3600\n",
      "   macro avg       0.98      0.98      0.98      3600\n",
      "weighted avg       0.98      0.98      0.98      3600\n",
      "\n"
     ]
    }
   ],
   "source": [
    "from sklearn.model_selection import GridSearchCV\n",
    "from sklearn.svm import LinearSVC\n",
    "from sklearn.metrics import classification_report\n",
    "\n",
    "# Parameter grid with only C\n",
    "param_grid = {\n",
    "    'C': [0.01, 0.1, 1, 10, 100]\n",
    "}\n",
    "\n",
    "# Grid search setup\n",
    "grid = GridSearchCV(\n",
    "    estimator=LinearSVC(max_iter=5000), \n",
    "    param_grid=param_grid,\n",
    "    scoring='f1_macro', \n",
    "    cv=5,\n",
    "    n_jobs=-1\n",
    ")\n",
    "\n",
    "grid.fit(X_train_vec, y_train)\n",
    "\n",
    "print(\"Best Parameters:\", grid.best_params_)\n",
    "print(\"Best Cross-Validation Score:\", grid.best_score_)\n",
    "\n",
    "best_model = grid.best_estimator_\n",
    "y_dev_pred = best_model.predict(X_dev_vec)\n",
    "\n",
    "print(\"Validation Set Performance:\")\n",
    "print(classification_report(y_dev, y_dev_pred))\n"
   ]
  },
  {
   "cell_type": "code",
   "execution_count": null,
   "id": "fda83b85",
   "metadata": {},
   "outputs": [
    {
     "name": "stdout",
     "output_type": "stream",
     "text": [
      "Test set performance:\n",
      "              precision    recall  f1-score   support\n",
      "\n",
      "        book       1.00      0.83      0.91         6\n",
      "       movie       0.75      0.50      0.60         6\n",
      "      sports       0.67      1.00      0.80         6\n",
      "\n",
      "    accuracy                           0.78        18\n",
      "   macro avg       0.81      0.78      0.77        18\n",
      "weighted avg       0.81      0.78      0.77        18\n",
      "\n"
     ]
    }
   ],
   "source": [
    "X_test = test_data['sentence']\n",
    "y_test = test_data['topic']\n",
    "\n",
    "X_test_vec = vectorizer.transform(X_test)\n",
    "\n",
    "y_test_pred = svm.predict(X_test_vec)\n",
    "\n",
    "from sklearn.metrics import classification_report\n",
    "print(\"Test set performance:\")\n",
    "print(classification_report(y_test, y_test_pred))\n"
   ]
  },
  {
   "cell_type": "code",
   "execution_count": null,
   "id": "ce044184",
   "metadata": {},
   "outputs": [],
   "source": [
    "misclassified_mask = y_test != y_test_pred\n",
    "misclassified_sentences = X_test[misclassified_mask]\n",
    "true_labels = y_test[misclassified_mask]\n",
    "pred_labels = y_test_pred[misclassified_mask]\n",
    "\n"
   ]
  },
  {
   "cell_type": "code",
   "execution_count": null,
   "id": "580061e7",
   "metadata": {},
   "outputs": [
    {
     "name": "stdout",
     "output_type": "stream",
     "text": [
      "                                                                                    sentence  \\\n",
      "0               The trailer was decent, giving you a taste without spilling all the secrets.   \n",
      "1  I found the main character so annoying that it was hard to care about what happened next.   \n",
      "2    Word is, the screenplay was scribbled down during a casual coffee break at a busy cafe.   \n",
      "3      It’s surprising how a promising start could unravel into such a disappointing finish.   \n",
      "\n",
      "  true_label predicted_label  \n",
      "0      movie          sports  \n",
      "1       book           movie  \n",
      "2      movie          sports  \n",
      "3      movie          sports  \n"
     ]
    }
   ],
   "source": [
    "error_df = pd.DataFrame({\n",
    "    'sentence': misclassified_sentences,\n",
    "    'true_label': true_labels,\n",
    "    'predicted_label': pred_labels\n",
    "})\n",
    "\n",
    "print(error_df)\n"
   ]
  },
  {
   "cell_type": "code",
   "execution_count": 44,
   "id": "1d65e5f9",
   "metadata": {},
   "outputs": [],
   "source": [
    "from sklearn.naive_bayes import MultinomialNB"
   ]
  },
  {
   "cell_type": "code",
   "execution_count": null,
   "id": "8bd2ad82",
   "metadata": {},
   "outputs": [
    {
     "name": "stdout",
     "output_type": "stream",
     "text": [
      "Validation set performance:\n",
      "              precision    recall  f1-score   support\n",
      "\n",
      "        book       0.92      0.97      0.94      1200\n",
      "       movie       0.92      0.99      0.95      1200\n",
      "      sports       1.00      0.86      0.93      1200\n",
      "\n",
      "    accuracy                           0.94      3600\n",
      "   macro avg       0.94      0.94      0.94      3600\n",
      "weighted avg       0.94      0.94      0.94      3600\n",
      "\n"
     ]
    }
   ],
   "source": [
    "nb_model = MultinomialNB(alpha=1) \n",
    "nb_model.fit(X_train_vec, y_train)\n",
    "\n",
    "y_dev_pred = nb_model.predict(X_dev_vec)\n",
    "print(\"Validation set performance:\")\n",
    "print(classification_report(y_dev, y_dev_pred))"
   ]
  },
  {
   "cell_type": "code",
   "execution_count": null,
   "id": "a1b2b96e",
   "metadata": {},
   "outputs": [
    {
     "name": "stdout",
     "output_type": "stream",
     "text": [
      "Best alpha: 1.0\n",
      "Best cross-val score: 0.9393791112942959\n",
      "Dev set performance:\n",
      "              precision    recall  f1-score   support\n",
      "\n",
      "        book       0.92      0.97      0.94      1200\n",
      "       movie       0.92      0.99      0.95      1200\n",
      "      sports       1.00      0.86      0.93      1200\n",
      "\n",
      "    accuracy                           0.94      3600\n",
      "   macro avg       0.94      0.94      0.94      3600\n",
      "weighted avg       0.94      0.94      0.94      3600\n",
      "\n"
     ]
    }
   ],
   "source": [
    "param_grid = {\n",
    "    'alpha': [0.001, 0.01, 0.1, 0.5, 1.0, 5.0]\n",
    "}\n",
    "\n",
    "grid_nb = GridSearchCV(\n",
    "    MultinomialNB(),\n",
    "    param_grid=param_grid,\n",
    "    scoring='f1_macro', \n",
    "    cv=5,\n",
    "    n_jobs=-1\n",
    ")\n",
    "\n",
    "grid_nb.fit(X_train_vec, y_train)\n",
    "\n",
    "print(\"Best alpha:\", grid_nb.best_params_['alpha'])\n",
    "print(\"Best cross-val score:\", grid_nb.best_score_)\n",
    "\n",
    "y_dev_pred = grid_nb.best_estimator_.predict(X_dev_vec)\n",
    "print(\"Dev set performance:\")\n",
    "print(classification_report(y_dev, y_dev_pred))"
   ]
  },
  {
   "cell_type": "code",
   "execution_count": null,
   "id": "88ac1cd0",
   "metadata": {},
   "outputs": [
    {
     "name": "stdout",
     "output_type": "stream",
     "text": [
      "Test set performance:\n",
      "              precision    recall  f1-score   support\n",
      "\n",
      "        book       0.71      0.83      0.77         6\n",
      "       movie       0.80      0.67      0.73         6\n",
      "      sports       1.00      1.00      1.00         6\n",
      "\n",
      "    accuracy                           0.83        18\n",
      "   macro avg       0.84      0.83      0.83        18\n",
      "weighted avg       0.84      0.83      0.83        18\n",
      "\n"
     ]
    }
   ],
   "source": [
    "y_test_pred = nb_model.predict(X_test_vec)\n",
    "\n",
    "print(\"Test set performance:\")\n",
    "print(classification_report(y_test, y_test_pred))"
   ]
  },
  {
   "cell_type": "code",
   "execution_count": 48,
   "id": "541b6feb",
   "metadata": {},
   "outputs": [
    {
     "name": "stdout",
     "output_type": "stream",
     "text": [
      "                                                                                         sentence  \\\n",
      "3                   The story had its moments, though some parts felt like they dragged on a bit.   \n",
      "6   The movie was a wild ride from start to finish; I was on the edge of my seat the entire time.   \n",
      "16          It’s surprising how a promising start could unravel into such a disappointing finish.   \n",
      "\n",
      "   true_label predicted_label  \n",
      "3        book           movie  \n",
      "6       movie            book  \n",
      "16      movie            book  \n"
     ]
    }
   ],
   "source": [
    "misclassified = X_test[y_test != y_test_pred]\n",
    "true_labels = y_test[y_test != y_test_pred]\n",
    "pred_labels = y_test_pred[y_test != y_test_pred]\n",
    "\n",
    "error_df = pd.DataFrame({\n",
    "    'sentence': misclassified,\n",
    "    'true_label': true_labels,\n",
    "    'predicted_label': pred_labels\n",
    "})\n",
    "print(error_df)\n"
   ]
  }
 ],
 "metadata": {
  "kernelspec": {
   "display_name": "TextMining",
   "language": "python",
   "name": "python3"
  },
  "language_info": {
   "codemirror_mode": {
    "name": "ipython",
    "version": 3
   },
   "file_extension": ".py",
   "mimetype": "text/x-python",
   "name": "python",
   "nbconvert_exporter": "python",
   "pygments_lexer": "ipython3",
   "version": "3.12.9"
  }
 },
 "nbformat": 4,
 "nbformat_minor": 5
}
